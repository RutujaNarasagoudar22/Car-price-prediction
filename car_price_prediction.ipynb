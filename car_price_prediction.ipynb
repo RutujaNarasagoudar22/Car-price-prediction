{
 "cells": [
  {
   "cell_type": "code",
   "execution_count": 72,
   "id": "6dbef912-62b2-4abe-8fa3-f7518b6d19c6",
   "metadata": {},
   "outputs": [],
   "source": [
    "import pandas as pd"
   ]
  },
  {
   "cell_type": "code",
   "execution_count": 73,
   "id": "4ea2a9cf-69fe-4e47-86d9-7e64cbf91ff6",
   "metadata": {},
   "outputs": [],
   "source": [
    "#pip install ipython-sql"
   ]
  },
  {
   "cell_type": "markdown",
   "id": "f32fbdf6-a1ea-480a-9f78-d01e4d923c9e",
   "metadata": {},
   "source": [
    " ### load data from database into a dataframe"
   ]
  },
  {
   "cell_type": "code",
   "execution_count": 74,
   "id": "6f3cd74a-2706-45a5-888f-d7a1675c36b0",
   "metadata": {},
   "outputs": [
    {
     "name": "stdout",
     "output_type": "stream",
     "text": [
      "The sql extension is already loaded. To reload it, use:\n",
      "  %reload_ext sql\n"
     ]
    }
   ],
   "source": [
    "%load_ext sql\n",
    "%sql sqlite:///car_prediction_dataset.sqlite3"
   ]
  },
  {
   "cell_type": "markdown",
   "id": "d1ec0a7a-a4e0-4ff3-a01e-85dfb15e0e9b",
   "metadata": {},
   "source": [
    "## Understanding the database structure\n",
    "##### 1.There are two tables which contains data which we need.\n",
    "##### 2.index column in model_info is actually model_id from model_with_companies .\n",
    "##### 3.i.e model_id in model_with_companies is foreign key of model_info.\n",
    "##### 4.We will perform inner join on index in model_info and model_id in model_with_companies and select only   rows required for our modelling."
   ]
  },
  {
   "cell_type": "code",
   "execution_count": 75,
   "id": "a3c3096d-8620-4d82-ab30-bf2bdb699ade",
   "metadata": {},
   "outputs": [
    {
     "name": "stdout",
     "output_type": "stream",
     "text": [
      " * sqlite:///car_prediction_dataset.sqlite3\n",
      "Done.\n",
      "Returning data to local variable results\n"
     ]
    }
   ],
   "source": [
    "%%sql \n",
    "results << SELECT \n",
    "       year,\n",
    "       price,\n",
    "       km_traveled,\n",
    "       tax,\n",
    "       enginesize,\n",
    "       km_per_liters,\n",
    "       mi.model,\n",
    "       transmission,\n",
    "       fuel_type\n",
    "FROM   models_with_companies mc\n",
    "       INNER JOIN model_info mi\n",
    "               ON mc.model_id = mi.\"index\"\n",
    "WHERE  make = 'Chevrolet';"
   ]
  },
  {
   "cell_type": "code",
   "execution_count": 76,
   "id": "ca31603a-3c53-4395-a6ac-da95aae026d8",
   "metadata": {},
   "outputs": [],
   "source": [
    "# converting the results into a dataframe and dropping unimportant columns \n",
    "df = results.DataFrame()"
   ]
  },
  {
   "cell_type": "code",
   "execution_count": 77,
   "id": "24235e4e-c152-49bd-bd2f-ceacd98c2508",
   "metadata": {},
   "outputs": [],
   "source": [
    "#pip install SQLAlchemy"
   ]
  },
  {
   "cell_type": "code",
   "execution_count": 78,
   "id": "41730ca6-a4c6-4c7f-8824-332b8c90a75c",
   "metadata": {},
   "outputs": [],
   "source": [
    "from sqlalchemy import create_engine \n",
    "engine = create_engine(\"sqlite:///car_prediction_dataset.sqlite3\")\n",
    "\n",
    "query = \"\"\"\n",
    "SELECT\n",
    "       year,\n",
    "       price,\n",
    "       km_traveled,\n",
    "       tax,\n",
    "       enginesize,\n",
    "       km_per_liters,\n",
    "       mi.model,\n",
    "       transmission,\n",
    "       fuel_type\n",
    "FROM   models_with_companies mc\n",
    "       INNER JOIN model_info mi\n",
    "               ON mc.model_id = mi.\"index\"\n",
    "WHERE  make = 'Chevrolet'; \n",
    "\"\"\""
   ]
  },
  {
   "cell_type": "code",
   "execution_count": 79,
   "id": "d84fbec5-b22c-48e4-a7e7-3cedc7d583dd",
   "metadata": {},
   "outputs": [
    {
     "data": {
      "text/plain": [
       "Engine(sqlite:///car_prediction_dataset.sqlite3)"
      ]
     },
     "execution_count": 79,
     "metadata": {},
     "output_type": "execute_result"
    }
   ],
   "source": [
    "engine"
   ]
  },
  {
   "cell_type": "code",
   "execution_count": 80,
   "id": "2081b343-d683-4912-98ed-0cbfd9782968",
   "metadata": {},
   "outputs": [],
   "source": [
    "#df = pd.read_sql_query(query, con = engine)"
   ]
  },
  {
   "cell_type": "code",
   "execution_count": 81,
   "id": "1ce96aea-ec45-4f7e-97b0-05bf1f87e911",
   "metadata": {},
   "outputs": [],
   "source": [
    "import numpy as np \n",
    "import pandas as pd \n",
    "from sklearn.model_selection import train_test_split \n",
    "from sklearn.linear_model import LinearRegression\n",
    "from sklearn.metrics import mean_absolute_error, mean_squared_error \n",
    "from sklearn.preprocessing import StandardScaler\n",
    "from sklearn.preprocessing import OneHotEncoder \n",
    "from sklearn.model_selection import GridSearchCV\n",
    "from sklearn.preprocessing import OrdinalEncoder\n",
    "from sklearn.compose import ColumnTransformer \n",
    "from sklearn.pipeline import Pipeline"
   ]
  },
  {
   "cell_type": "code",
   "execution_count": 82,
   "id": "8cd486f2-7665-4155-893d-be7152cd3812",
   "metadata": {},
   "outputs": [],
   "source": [
    "df.to_csv('car_price_data.csv')"
   ]
  },
  {
   "cell_type": "markdown",
   "id": "caae33bc-1817-42be-872d-5a5d7db2c257",
   "metadata": {},
   "source": [
    "#### Check for null values"
   ]
  },
  {
   "cell_type": "code",
   "execution_count": 83,
   "id": "018d6645-4cde-4fbb-95dd-afebcaad3193",
   "metadata": {},
   "outputs": [
    {
     "data": {
      "text/plain": [
       "year             0\n",
       "price            0\n",
       "km_traveled      0\n",
       "tax              0\n",
       "engineSize       0\n",
       "km_per_liters    0\n",
       "model            0\n",
       "transmission     0\n",
       "fuel_type        0\n",
       "dtype: int64"
      ]
     },
     "execution_count": 83,
     "metadata": {},
     "output_type": "execute_result"
    }
   ],
   "source": [
    "df.isnull().sum()"
   ]
  },
  {
   "cell_type": "code",
   "execution_count": 84,
   "id": "c2ca8a16-dfc7-43cc-b7bb-020b28801508",
   "metadata": {},
   "outputs": [
    {
     "data": {
      "text/html": [
       "<div>\n",
       "<style scoped>\n",
       "    .dataframe tbody tr th:only-of-type {\n",
       "        vertical-align: middle;\n",
       "    }\n",
       "\n",
       "    .dataframe tbody tr th {\n",
       "        vertical-align: top;\n",
       "    }\n",
       "\n",
       "    .dataframe thead th {\n",
       "        text-align: right;\n",
       "    }\n",
       "</style>\n",
       "<table border=\"1\" class=\"dataframe\">\n",
       "  <thead>\n",
       "    <tr style=\"text-align: right;\">\n",
       "      <th></th>\n",
       "      <th>year</th>\n",
       "      <th>price</th>\n",
       "      <th>km_traveled</th>\n",
       "      <th>tax</th>\n",
       "      <th>engineSize</th>\n",
       "      <th>km_per_liters</th>\n",
       "      <th>model</th>\n",
       "      <th>transmission</th>\n",
       "      <th>fuel_type</th>\n",
       "    </tr>\n",
       "  </thead>\n",
       "  <tbody>\n",
       "    <tr>\n",
       "      <th>0</th>\n",
       "      <td>2018</td>\n",
       "      <td>9491</td>\n",
       "      <td>39842.43038</td>\n",
       "      <td>0</td>\n",
       "      <td>1.5</td>\n",
       "      <td>20.364398</td>\n",
       "      <td>Camaro</td>\n",
       "      <td>Manual</td>\n",
       "      <td>Petrol</td>\n",
       "    </tr>\n",
       "    <tr>\n",
       "      <th>1</th>\n",
       "      <td>2002</td>\n",
       "      <td>3750</td>\n",
       "      <td>18158.18322</td>\n",
       "      <td>145</td>\n",
       "      <td>3.0</td>\n",
       "      <td>30.015166</td>\n",
       "      <td>TrailBlazer</td>\n",
       "      <td>Other</td>\n",
       "      <td>Petrol</td>\n",
       "    </tr>\n",
       "    <tr>\n",
       "      <th>2</th>\n",
       "      <td>2002</td>\n",
       "      <td>27000</td>\n",
       "      <td>24391.15704</td>\n",
       "      <td>0</td>\n",
       "      <td>1.5</td>\n",
       "      <td>25.040982</td>\n",
       "      <td>Silverado 2500 Extended Cab</td>\n",
       "      <td>Manual</td>\n",
       "      <td>Diesel</td>\n",
       "    </tr>\n",
       "    <tr>\n",
       "      <th>3</th>\n",
       "      <td>2005</td>\n",
       "      <td>19200</td>\n",
       "      <td>14405.20234</td>\n",
       "      <td>0</td>\n",
       "      <td>1.8</td>\n",
       "      <td>24.530809</td>\n",
       "      <td>Astro Cargo</td>\n",
       "      <td>Semi-Auto</td>\n",
       "      <td>Hybrid</td>\n",
       "    </tr>\n",
       "    <tr>\n",
       "      <th>4</th>\n",
       "      <td>2002</td>\n",
       "      <td>11995</td>\n",
       "      <td>34639.43416</td>\n",
       "      <td>145</td>\n",
       "      <td>1.0</td>\n",
       "      <td>24.658352</td>\n",
       "      <td>S10 Extended Cab</td>\n",
       "      <td>Automatic</td>\n",
       "      <td>Diesel</td>\n",
       "    </tr>\n",
       "  </tbody>\n",
       "</table>\n",
       "</div>"
      ],
      "text/plain": [
       "   year  price  km_traveled  tax  engineSize  km_per_liters  \\\n",
       "0  2018   9491  39842.43038    0         1.5      20.364398   \n",
       "1  2002   3750  18158.18322  145         3.0      30.015166   \n",
       "2  2002  27000  24391.15704    0         1.5      25.040982   \n",
       "3  2005  19200  14405.20234    0         1.8      24.530809   \n",
       "4  2002  11995  34639.43416  145         1.0      24.658352   \n",
       "\n",
       "                         model transmission fuel_type  \n",
       "0                       Camaro       Manual    Petrol  \n",
       "1                  TrailBlazer        Other    Petrol  \n",
       "2  Silverado 2500 Extended Cab       Manual    Diesel  \n",
       "3                  Astro Cargo    Semi-Auto    Hybrid  \n",
       "4             S10 Extended Cab    Automatic    Diesel  "
      ]
     },
     "execution_count": 84,
     "metadata": {},
     "output_type": "execute_result"
    }
   ],
   "source": [
    "df.head()"
   ]
  },
  {
   "cell_type": "code",
   "execution_count": 85,
   "id": "e8d47662-d4eb-48f7-a6e9-1bd3c18c6aa4",
   "metadata": {},
   "outputs": [
    {
     "data": {
      "text/plain": [
       "(5101, 9)"
      ]
     },
     "execution_count": 85,
     "metadata": {},
     "output_type": "execute_result"
    }
   ],
   "source": [
    "df.shape"
   ]
  },
  {
   "cell_type": "code",
   "execution_count": 86,
   "id": "8ccd4f21-ec98-4ed0-b56b-14d8a4b92f00",
   "metadata": {},
   "outputs": [
    {
     "data": {
      "text/plain": [
       "45909"
      ]
     },
     "execution_count": 86,
     "metadata": {},
     "output_type": "execute_result"
    }
   ],
   "source": [
    "df.size"
   ]
  },
  {
   "cell_type": "code",
   "execution_count": 87,
   "id": "ed8e4b63-e422-440e-ad06-45b3c90d99a2",
   "metadata": {},
   "outputs": [
    {
     "name": "stdout",
     "output_type": "stream",
     "text": [
      "<class 'pandas.core.frame.DataFrame'>\n",
      "RangeIndex: 5101 entries, 0 to 5100\n",
      "Data columns (total 9 columns):\n",
      " #   Column         Non-Null Count  Dtype  \n",
      "---  ------         --------------  -----  \n",
      " 0   year           5101 non-null   object \n",
      " 1   price          5101 non-null   int64  \n",
      " 2   km_traveled    5101 non-null   float64\n",
      " 3   tax            5101 non-null   int64  \n",
      " 4   engineSize     5101 non-null   float64\n",
      " 5   km_per_liters  5101 non-null   float64\n",
      " 6   model          5101 non-null   object \n",
      " 7   transmission   5101 non-null   object \n",
      " 8   fuel_type      5101 non-null   object \n",
      "dtypes: float64(3), int64(2), object(4)\n",
      "memory usage: 358.8+ KB\n"
     ]
    }
   ],
   "source": [
    "df.info()"
   ]
  },
  {
   "cell_type": "code",
   "execution_count": 88,
   "id": "ea3c67ea-604e-4a7c-b9ac-15f7b7e43782",
   "metadata": {},
   "outputs": [],
   "source": [
    "### our dataset doesnot contains any null values"
   ]
  },
  {
   "cell_type": "code",
   "execution_count": 89,
   "id": "4f5c3cce-9bc9-4366-a888-6e113156ca75",
   "metadata": {},
   "outputs": [],
   "source": [
    "#converting categorical values into numerical values"
   ]
  },
  {
   "cell_type": "code",
   "execution_count": 90,
   "id": "3096d8f8-605a-4c52-a4ab-973a806bc8a6",
   "metadata": {},
   "outputs": [],
   "source": [
    "df1=df.drop(['price'],axis=1)"
   ]
  },
  {
   "cell_type": "code",
   "execution_count": 91,
   "id": "47399543-1fd1-4d10-af46-ff76c217f848",
   "metadata": {},
   "outputs": [
    {
     "data": {
      "text/html": [
       "<div>\n",
       "<style scoped>\n",
       "    .dataframe tbody tr th:only-of-type {\n",
       "        vertical-align: middle;\n",
       "    }\n",
       "\n",
       "    .dataframe tbody tr th {\n",
       "        vertical-align: top;\n",
       "    }\n",
       "\n",
       "    .dataframe thead th {\n",
       "        text-align: right;\n",
       "    }\n",
       "</style>\n",
       "<table border=\"1\" class=\"dataframe\">\n",
       "  <thead>\n",
       "    <tr style=\"text-align: right;\">\n",
       "      <th></th>\n",
       "      <th>year</th>\n",
       "      <th>km_traveled</th>\n",
       "      <th>tax</th>\n",
       "      <th>engineSize</th>\n",
       "      <th>km_per_liters</th>\n",
       "      <th>model</th>\n",
       "      <th>transmission</th>\n",
       "      <th>fuel_type</th>\n",
       "    </tr>\n",
       "  </thead>\n",
       "  <tbody>\n",
       "    <tr>\n",
       "      <th>0</th>\n",
       "      <td>2018</td>\n",
       "      <td>39842.43038</td>\n",
       "      <td>0</td>\n",
       "      <td>1.5</td>\n",
       "      <td>20.364398</td>\n",
       "      <td>Camaro</td>\n",
       "      <td>Manual</td>\n",
       "      <td>Petrol</td>\n",
       "    </tr>\n",
       "    <tr>\n",
       "      <th>1</th>\n",
       "      <td>2002</td>\n",
       "      <td>18158.18322</td>\n",
       "      <td>145</td>\n",
       "      <td>3.0</td>\n",
       "      <td>30.015166</td>\n",
       "      <td>TrailBlazer</td>\n",
       "      <td>Other</td>\n",
       "      <td>Petrol</td>\n",
       "    </tr>\n",
       "    <tr>\n",
       "      <th>2</th>\n",
       "      <td>2002</td>\n",
       "      <td>24391.15704</td>\n",
       "      <td>0</td>\n",
       "      <td>1.5</td>\n",
       "      <td>25.040982</td>\n",
       "      <td>Silverado 2500 Extended Cab</td>\n",
       "      <td>Manual</td>\n",
       "      <td>Diesel</td>\n",
       "    </tr>\n",
       "    <tr>\n",
       "      <th>3</th>\n",
       "      <td>2005</td>\n",
       "      <td>14405.20234</td>\n",
       "      <td>0</td>\n",
       "      <td>1.8</td>\n",
       "      <td>24.530809</td>\n",
       "      <td>Astro Cargo</td>\n",
       "      <td>Semi-Auto</td>\n",
       "      <td>Hybrid</td>\n",
       "    </tr>\n",
       "    <tr>\n",
       "      <th>4</th>\n",
       "      <td>2002</td>\n",
       "      <td>34639.43416</td>\n",
       "      <td>145</td>\n",
       "      <td>1.0</td>\n",
       "      <td>24.658352</td>\n",
       "      <td>S10 Extended Cab</td>\n",
       "      <td>Automatic</td>\n",
       "      <td>Diesel</td>\n",
       "    </tr>\n",
       "  </tbody>\n",
       "</table>\n",
       "</div>"
      ],
      "text/plain": [
       "   year  km_traveled  tax  engineSize  km_per_liters  \\\n",
       "0  2018  39842.43038    0         1.5      20.364398   \n",
       "1  2002  18158.18322  145         3.0      30.015166   \n",
       "2  2002  24391.15704    0         1.5      25.040982   \n",
       "3  2005  14405.20234    0         1.8      24.530809   \n",
       "4  2002  34639.43416  145         1.0      24.658352   \n",
       "\n",
       "                         model transmission fuel_type  \n",
       "0                       Camaro       Manual    Petrol  \n",
       "1                  TrailBlazer        Other    Petrol  \n",
       "2  Silverado 2500 Extended Cab       Manual    Diesel  \n",
       "3                  Astro Cargo    Semi-Auto    Hybrid  \n",
       "4             S10 Extended Cab    Automatic    Diesel  "
      ]
     },
     "execution_count": 91,
     "metadata": {},
     "output_type": "execute_result"
    }
   ],
   "source": [
    "df1.head()"
   ]
  },
  {
   "cell_type": "code",
   "execution_count": 92,
   "id": "6c98c0ed-38d7-4e1d-9891-689d7e1ae126",
   "metadata": {},
   "outputs": [
    {
     "data": {
      "text/plain": [
       "Hybrid    1574\n",
       "Other     1378\n",
       "Diesel    1085\n",
       "Petrol    1064\n",
       "Name: fuel_type, dtype: int64"
      ]
     },
     "execution_count": 92,
     "metadata": {},
     "output_type": "execute_result"
    }
   ],
   "source": [
    "df1['fuel_type'].value_counts()"
   ]
  },
  {
   "cell_type": "code",
   "execution_count": 93,
   "id": "1700f0f3-f181-4611-b2ee-717a3565afa8",
   "metadata": {},
   "outputs": [
    {
     "data": {
      "text/plain": [
       "120"
      ]
     },
     "execution_count": 93,
     "metadata": {},
     "output_type": "execute_result"
    }
   ],
   "source": [
    "df['model'].nunique()"
   ]
  },
  {
   "cell_type": "code",
   "execution_count": 94,
   "id": "d7bcb6c9-a3bc-4387-be95-47f2bb187479",
   "metadata": {},
   "outputs": [
    {
     "data": {
      "text/html": [
       "<div>\n",
       "<style scoped>\n",
       "    .dataframe tbody tr th:only-of-type {\n",
       "        vertical-align: middle;\n",
       "    }\n",
       "\n",
       "    .dataframe tbody tr th {\n",
       "        vertical-align: top;\n",
       "    }\n",
       "\n",
       "    .dataframe thead th {\n",
       "        text-align: right;\n",
       "    }\n",
       "</style>\n",
       "<table border=\"1\" class=\"dataframe\">\n",
       "  <thead>\n",
       "    <tr style=\"text-align: right;\">\n",
       "      <th></th>\n",
       "      <th>price</th>\n",
       "      <th>km_traveled</th>\n",
       "      <th>tax</th>\n",
       "      <th>engineSize</th>\n",
       "      <th>km_per_liters</th>\n",
       "    </tr>\n",
       "  </thead>\n",
       "  <tbody>\n",
       "    <tr>\n",
       "      <th>price</th>\n",
       "      <td>1.000000</td>\n",
       "      <td>-0.002491</td>\n",
       "      <td>-0.007105</td>\n",
       "      <td>-0.009075</td>\n",
       "      <td>-0.017848</td>\n",
       "    </tr>\n",
       "    <tr>\n",
       "      <th>km_traveled</th>\n",
       "      <td>-0.002491</td>\n",
       "      <td>1.000000</td>\n",
       "      <td>0.007029</td>\n",
       "      <td>0.006570</td>\n",
       "      <td>-0.015372</td>\n",
       "    </tr>\n",
       "    <tr>\n",
       "      <th>tax</th>\n",
       "      <td>-0.007105</td>\n",
       "      <td>0.007029</td>\n",
       "      <td>1.000000</td>\n",
       "      <td>-0.007840</td>\n",
       "      <td>0.020564</td>\n",
       "    </tr>\n",
       "    <tr>\n",
       "      <th>engineSize</th>\n",
       "      <td>-0.009075</td>\n",
       "      <td>0.006570</td>\n",
       "      <td>-0.007840</td>\n",
       "      <td>1.000000</td>\n",
       "      <td>-0.005883</td>\n",
       "    </tr>\n",
       "    <tr>\n",
       "      <th>km_per_liters</th>\n",
       "      <td>-0.017848</td>\n",
       "      <td>-0.015372</td>\n",
       "      <td>0.020564</td>\n",
       "      <td>-0.005883</td>\n",
       "      <td>1.000000</td>\n",
       "    </tr>\n",
       "  </tbody>\n",
       "</table>\n",
       "</div>"
      ],
      "text/plain": [
       "                  price  km_traveled       tax  engineSize  km_per_liters\n",
       "price          1.000000    -0.002491 -0.007105   -0.009075      -0.017848\n",
       "km_traveled   -0.002491     1.000000  0.007029    0.006570      -0.015372\n",
       "tax           -0.007105     0.007029  1.000000   -0.007840       0.020564\n",
       "engineSize    -0.009075     0.006570 -0.007840    1.000000      -0.005883\n",
       "km_per_liters -0.017848    -0.015372  0.020564   -0.005883       1.000000"
      ]
     },
     "execution_count": 94,
     "metadata": {},
     "output_type": "execute_result"
    }
   ],
   "source": [
    "df.corr()\n"
   ]
  },
  {
   "cell_type": "code",
   "execution_count": 95,
   "id": "4bc57340-52c5-4f07-8c61-863614d891f4",
   "metadata": {},
   "outputs": [],
   "source": [
    "import matplotlib.pyplot as plt\n",
    "import seaborn as sns"
   ]
  },
  {
   "cell_type": "code",
   "execution_count": 96,
   "id": "cfb31cd4-6fc6-4cad-b55d-928b86460c34",
   "metadata": {},
   "outputs": [
    {
     "data": {
      "text/plain": [
       "<AxesSubplot:>"
      ]
     },
     "execution_count": 96,
     "metadata": {},
     "output_type": "execute_result"
    },
    {
     "data": {
      "image/png": "[encoded data removed]",
      "text/plain": [
       "<Figure size 432x288 with 2 Axes>"
      ]
     },
     "metadata": {
      "needs_background": "light"
     },
     "output_type": "display_data"
    }
   ],
   "source": [
    "sns.heatmap(df.corr(),annot=True)"
   ]
  },
  {
   "cell_type": "code",
   "execution_count": 97,
   "id": "782b50c2-dc92-4c6a-90a4-7ba59c1a7231",
   "metadata": {},
   "outputs": [],
   "source": [
    "#### applying hypothesis testing "
   ]
  },
  {
   "cell_type": "code",
   "execution_count": 98,
   "id": "d2efa5ac-0416-421e-a59a-7f76760b86ca",
   "metadata": {},
   "outputs": [],
   "source": [
    "# h0= there is no relation between two variables\n",
    "#ha=  there is relation between two variables"
   ]
  },
  {
   "cell_type": "code",
   "execution_count": 99,
   "id": "c609d725-dd9e-4809-9135-241582eed398",
   "metadata": {},
   "outputs": [],
   "source": [
    "from scipy.stats import chi2_contingency"
   ]
  },
  {
   "cell_type": "code",
   "execution_count": 100,
   "id": "88f36eee-6013-442a-bea2-8997d2efa3d8",
   "metadata": {},
   "outputs": [
    {
     "name": "stdout",
     "output_type": "stream",
     "text": [
      "year has p_value of 0.7272439282964366\n",
      "model has p_value of 9.699762959136516e-18\n",
      "transmission has p_value of 0.5737596449565006\n",
      "fuel_type has p_value of 0.19903049412930943\n"
     ]
    }
   ],
   "source": [
    "for cols in df1.columns:\n",
    "    if df[cols].dtype=='object':\n",
    "        from scipy.stats import chi2_contingency\n",
    "        chi_df=pd.crosstab(df1[cols],df['price'])\n",
    "        a,p_value,b,c=chi2_contingency(chi_df)\n",
    "        print(f'{cols} has p_value of {p_value}')"
   ]
  },
  {
   "cell_type": "code",
   "execution_count": 101,
   "id": "ee067d26-2b16-48e0-b438-291b860aa818",
   "metadata": {},
   "outputs": [],
   "source": [
    "df1=df.drop(['model'],axis=1)"
   ]
  },
  {
   "cell_type": "code",
   "execution_count": 102,
   "id": "05a88028-a3df-401f-b9af-b8a727b53a69",
   "metadata": {},
   "outputs": [
    {
     "data": {
      "text/plain": [
       "145    1546\n",
       "0      1371\n",
       "135     538\n",
       "30      432\n",
       "150     417\n",
       "20      185\n",
       "140     169\n",
       "125     152\n",
       "260      80\n",
       "200      58\n",
       "205      32\n",
       "265      24\n",
       "160      24\n",
       "10       17\n",
       "235      15\n",
       "165      11\n",
       "325      11\n",
       "300       9\n",
       "240       5\n",
       "330       4\n",
       "305       1\n",
       "Name: tax, dtype: int64"
      ]
     },
     "execution_count": 102,
     "metadata": {},
     "output_type": "execute_result"
    }
   ],
   "source": [
    "df['tax'].value_counts()"
   ]
  },
  {
   "cell_type": "code",
   "execution_count": 103,
   "id": "64a8371c-6d5f-482b-999c-838831e9487b",
   "metadata": {},
   "outputs": [],
   "source": [
    "### from chi-squre test we can say that fuel_type \n",
    "# 1) as p_value is less than 0.5 , model has very week or no relation with model column\n",
    "# 2) fuel type is seems to be highly correlatd to price "
   ]
  },
  {
   "cell_type": "code",
   "execution_count": 104,
   "id": "166358b4-67e0-4ca9-9d6d-8532316d3526",
   "metadata": {},
   "outputs": [
    {
     "data": {
      "text/plain": [
       "<AxesSubplot:xlabel='km_traveled', ylabel='Count'>"
      ]
     },
     "execution_count": 104,
     "metadata": {},
     "output_type": "execute_result"
    },
    {
     "data": {
      "image/png": "[encoded data removed]",
      "text/plain": [
       "<Figure size 432x288 with 1 Axes>"
      ]
     },
     "metadata": {
      "needs_background": "light"
     },
     "output_type": "display_data"
    }
   ],
   "source": [
    "sns.histplot(df1['km_traveled'])"
   ]
  },
  {
   "cell_type": "code",
   "execution_count": 105,
   "id": "37431513-97e2-4899-8887-cb8e8393f6e3",
   "metadata": {},
   "outputs": [
    {
     "data": {
      "text/plain": [
       "<AxesSubplot:xlabel='km_per_liters', ylabel='Count'>"
      ]
     },
     "execution_count": 105,
     "metadata": {},
     "output_type": "execute_result"
    },
    {
     "data": {
      "image/png": "[encoded data removed]",
      "text/plain": [
       "<Figure size 432x288 with 1 Axes>"
      ]
     },
     "metadata": {
      "needs_background": "light"
     },
     "output_type": "display_data"
    }
   ],
   "source": [
    "sns.histplot(df['km_per_liters'])"
   ]
  },
  {
   "cell_type": "code",
   "execution_count": 106,
   "id": "f96ae9fb-d6ae-4c47-875e-5d435d6fd4d3",
   "metadata": {},
   "outputs": [
    {
     "data": {
      "text/html": [
       "<div>\n",
       "<style scoped>\n",
       "    .dataframe tbody tr th:only-of-type {\n",
       "        vertical-align: middle;\n",
       "    }\n",
       "\n",
       "    .dataframe tbody tr th {\n",
       "        vertical-align: top;\n",
       "    }\n",
       "\n",
       "    .dataframe thead th {\n",
       "        text-align: right;\n",
       "    }\n",
       "</style>\n",
       "<table border=\"1\" class=\"dataframe\">\n",
       "  <thead>\n",
       "    <tr style=\"text-align: right;\">\n",
       "      <th></th>\n",
       "      <th>price</th>\n",
       "      <th>km_traveled</th>\n",
       "      <th>tax</th>\n",
       "      <th>engineSize</th>\n",
       "      <th>km_per_liters</th>\n",
       "    </tr>\n",
       "  </thead>\n",
       "  <tbody>\n",
       "    <tr>\n",
       "      <th>count</th>\n",
       "      <td>5101.000000</td>\n",
       "      <td>5101.000000</td>\n",
       "      <td>5101.000000</td>\n",
       "      <td>5101.000000</td>\n",
       "      <td>5101.000000</td>\n",
       "    </tr>\n",
       "    <tr>\n",
       "      <th>mean</th>\n",
       "      <td>12544.586944</td>\n",
       "      <td>36194.765202</td>\n",
       "      <td>94.577534</td>\n",
       "      <td>1.462615</td>\n",
       "      <td>26.885070</td>\n",
       "    </tr>\n",
       "    <tr>\n",
       "      <th>std</th>\n",
       "      <td>6502.942608</td>\n",
       "      <td>30260.285298</td>\n",
       "      <td>73.438069</td>\n",
       "      <td>0.434412</td>\n",
       "      <td>6.916482</td>\n",
       "    </tr>\n",
       "    <tr>\n",
       "      <th>min</th>\n",
       "      <td>950.000000</td>\n",
       "      <td>4.828020</td>\n",
       "      <td>0.000000</td>\n",
       "      <td>0.000000</td>\n",
       "      <td>1.190403</td>\n",
       "    </tr>\n",
       "    <tr>\n",
       "      <th>25%</th>\n",
       "      <td>8190.000000</td>\n",
       "      <td>15042.500980</td>\n",
       "      <td>0.000000</td>\n",
       "      <td>1.000000</td>\n",
       "      <td>23.552978</td>\n",
       "    </tr>\n",
       "    <tr>\n",
       "      <th>50%</th>\n",
       "      <td>10610.000000</td>\n",
       "      <td>29186.990240</td>\n",
       "      <td>135.000000</td>\n",
       "      <td>1.500000</td>\n",
       "      <td>26.699043</td>\n",
       "    </tr>\n",
       "    <tr>\n",
       "      <th>75%</th>\n",
       "      <td>14995.000000</td>\n",
       "      <td>49123.494160</td>\n",
       "      <td>145.000000</td>\n",
       "      <td>1.800000</td>\n",
       "      <td>30.015166</td>\n",
       "    </tr>\n",
       "    <tr>\n",
       "      <th>max</th>\n",
       "      <td>59995.000000</td>\n",
       "      <td>280699.473460</td>\n",
       "      <td>330.000000</td>\n",
       "      <td>3.000000</td>\n",
       "      <td>99.908840</td>\n",
       "    </tr>\n",
       "  </tbody>\n",
       "</table>\n",
       "</div>"
      ],
      "text/plain": [
       "              price    km_traveled          tax   engineSize  km_per_liters\n",
       "count   5101.000000    5101.000000  5101.000000  5101.000000    5101.000000\n",
       "mean   12544.586944   36194.765202    94.577534     1.462615      26.885070\n",
       "std     6502.942608   30260.285298    73.438069     0.434412       6.916482\n",
       "min      950.000000       4.828020     0.000000     0.000000       1.190403\n",
       "25%     8190.000000   15042.500980     0.000000     1.000000      23.552978\n",
       "50%    10610.000000   29186.990240   135.000000     1.500000      26.699043\n",
       "75%    14995.000000   49123.494160   145.000000     1.800000      30.015166\n",
       "max    59995.000000  280699.473460   330.000000     3.000000      99.908840"
      ]
     },
     "execution_count": 106,
     "metadata": {},
     "output_type": "execute_result"
    }
   ],
   "source": [
    "df1.describe()"
   ]
  },
  {
   "cell_type": "code",
   "execution_count": 107,
   "id": "3f588030-43a4-41ec-a57d-a6e9eeba9e10",
   "metadata": {},
   "outputs": [
    {
     "data": {
      "image/png": "[encoded data removed]",
      "text/plain": [
       "<Figure size 864x864 with 16 Axes>"
      ]
     },
     "metadata": {
      "needs_background": "light"
     },
     "output_type": "display_data"
    }
   ],
   "source": [
    "df1.plot(kind='box',figsize=(12,12), layout=(4,4),subplots=True);"
   ]
  },
  {
   "cell_type": "code",
   "execution_count": 108,
   "id": "d22b3783-ab0f-47e9-9f0d-9eb536eb01da",
   "metadata": {},
   "outputs": [],
   "source": [
    "col=['km_traveled','km_per_liters']"
   ]
  },
  {
   "cell_type": "code",
   "execution_count": 109,
   "id": "fb943cca-31e8-4569-93d9-2671bc46114c",
   "metadata": {},
   "outputs": [],
   "source": [
    "def remove_outlies(df,n):\n",
    "    more_than=0\n",
    "    lower_than=0\n",
    "    sum=0\n",
    "    for j in col:\n",
    "        if df[j].dtype in ('int64','float64'):\n",
    "            a=np.mean(df[j])\n",
    "            b=np.std(df[j])\n",
    "            c=a+(n*b)\n",
    "            d=a-(n*b)\n",
    "            for i in range(0,len(df)):\n",
    "                if df[j].iloc[i]>c:\n",
    "                    df[j].iloc[i]=c\n",
    "                    more_than=more_than+1\n",
    "                if df[j].iloc[i]<d:\n",
    "                    df[j].iloc[i]=d\n",
    "                    lower_than=lower_than+1\n",
    "                else:\n",
    "                    pass\n",
    "                total=more_than+ lower_than\n",
    "            print(f'{j} has lower_outliers{lower_than} and higher-outlier {more_than} and total outliers {total}')"
   ]
  },
  {
   "cell_type": "code",
   "execution_count": 110,
   "id": "94a85681-45b5-418c-9f65-0d00aa881f72",
   "metadata": {},
   "outputs": [
    {
     "name": "stderr",
     "output_type": "stream",
     "text": [
      "C:\\Users\\Shree\\AppData\\Local\\Temp\\ipykernel_7864\\904196194.py:13: SettingWithCopyWarning: \n",
      "A value is trying to be set on a copy of a slice from a DataFrame\n",
      "\n",
      "See the caveats in the documentation: https://pandas.pydata.org/pandas-docs/stable/user_guide/indexing.html#returning-a-view-versus-a-copy\n",
      "  df[j].iloc[i]=c\n"
     ]
    },
    {
     "name": "stdout",
     "output_type": "stream",
     "text": [
      "km_traveled has lower_outliers0 and higher-outlier 78 and total outliers 78\n"
     ]
    },
    {
     "name": "stderr",
     "output_type": "stream",
     "text": [
      "C:\\Users\\Shree\\AppData\\Local\\Temp\\ipykernel_7864\\904196194.py:16: SettingWithCopyWarning: \n",
      "A value is trying to be set on a copy of a slice from a DataFrame\n",
      "\n",
      "See the caveats in the documentation: https://pandas.pydata.org/pandas-docs/stable/user_guide/indexing.html#returning-a-view-versus-a-copy\n",
      "  df[j].iloc[i]=d\n"
     ]
    },
    {
     "name": "stdout",
     "output_type": "stream",
     "text": [
      "km_per_liters has lower_outliers10 and higher-outlier 103 and total outliers 113\n"
     ]
    }
   ],
   "source": [
    "remove_outlies(df1,3)"
   ]
  },
  {
   "cell_type": "code",
   "execution_count": 111,
   "id": "8cd14f3e-3641-494d-81e7-9e96d6444ca2",
   "metadata": {},
   "outputs": [],
   "source": [
    "### iin case of tax will have to remove values from upper limit i.e- a+(n*b)"
   ]
  },
  {
   "cell_type": "code",
   "execution_count": 112,
   "id": "cdb6e7ab-f53f-47d1-a69d-7b8c3d5d96db",
   "metadata": {},
   "outputs": [],
   "source": [
    "col1=['tax']"
   ]
  },
  {
   "cell_type": "code",
   "execution_count": 113,
   "id": "b855e9fc-55be-4458-84bc-e811ef76e310",
   "metadata": {},
   "outputs": [],
   "source": [
    "def remove_outlies(df,n):\n",
    "    more_than=0\n",
    "    sum=0\n",
    "    for j in col1:\n",
    "        if df[j].dtype in ('int64','float64'):\n",
    "            a=np.mean(df[j])\n",
    "            b=np.std(df[j])\n",
    "            c=a+(n*b)\n",
    "            for i in range(0,len(df)):\n",
    "                if df[j].iloc[i]>c:\n",
    "                    df[j].iloc[i]=c\n",
    "                    more_than=more_than+1\n",
    "                else:\n",
    "                    pass\n",
    "                total=more_than\n",
    "            print(f' higher-outlier {more_than} and total outliers {total}')"
   ]
  },
  {
   "cell_type": "code",
   "execution_count": 114,
   "id": "962157c5-ea89-4ad5-874c-0a0fa358c23b",
   "metadata": {},
   "outputs": [
    {
     "name": "stderr",
     "output_type": "stream",
     "text": [
      "C:\\Users\\Shree\\AppData\\Local\\Temp\\ipykernel_7864\\2637598660.py:11: SettingWithCopyWarning: \n",
      "A value is trying to be set on a copy of a slice from a DataFrame\n",
      "\n",
      "See the caveats in the documentation: https://pandas.pydata.org/pandas-docs/stable/user_guide/indexing.html#returning-a-view-versus-a-copy\n",
      "  df[j].iloc[i]=c\n"
     ]
    },
    {
     "name": "stdout",
     "output_type": "stream",
     "text": [
      " higher-outlier 15 and total outliers 15\n"
     ]
    }
   ],
   "source": [
    "remove_outlies(df1,3)"
   ]
  },
  {
   "cell_type": "code",
   "execution_count": 115,
   "id": "e9103a1a-55ab-4a0f-988d-5622501fe5f1",
   "metadata": {},
   "outputs": [
    {
     "data": {
      "image/png": "[encoded data removed]",
      "text/plain": [
       "<Figure size 864x864 with 16 Axes>"
      ]
     },
     "metadata": {
      "needs_background": "light"
     },
     "output_type": "display_data"
    }
   ],
   "source": [
    "df1.plot(kind='box',figsize=(12,12), layout=(4,4),subplots=True);"
   ]
  },
  {
   "cell_type": "code",
   "execution_count": 116,
   "id": "c6d9f4dc-f601-4c98-89f6-f88a2349234e",
   "metadata": {},
   "outputs": [],
   "source": [
    "### converting categorical columns into numerical"
   ]
  },
  {
   "cell_type": "code",
   "execution_count": 117,
   "id": "430f4db4-10bf-4dba-9368-6696aa91feb8",
   "metadata": {},
   "outputs": [
    {
     "data": {
      "text/plain": [
       "<AxesSubplot:xlabel='km_traveled', ylabel='Count'>"
      ]
     },
     "execution_count": 117,
     "metadata": {},
     "output_type": "execute_result"
    },
    {
     "data": {
      "image/png": "[encoded data removed]",
      "text/plain": [
       "<Figure size 432x288 with 1 Axes>"
      ]
     },
     "metadata": {
      "needs_background": "light"
     },
     "output_type": "display_data"
    }
   ],
   "source": [
    "sns.histplot(df1['km_traveled'])"
   ]
  },
  {
   "cell_type": "code",
   "execution_count": 118,
   "id": "355ef6bf-91ea-4315-b757-246410c5c590",
   "metadata": {},
   "outputs": [],
   "source": [
    "from sklearn.preprocessing import LabelEncoder,OneHotEncoder,OrdinalEncoder"
   ]
  },
  {
   "cell_type": "code",
   "execution_count": 119,
   "id": "001417e9-ba73-4c95-baa7-5c6ad6a875da",
   "metadata": {},
   "outputs": [],
   "source": [
    "le=LabelEncoder()\n",
    "ohe=OneHotEncoder(handle_unknown='ignore', sparse=False)\n",
    "ord_encoder = OrdinalEncoder()\n"
   ]
  },
  {
   "cell_type": "code",
   "execution_count": 120,
   "id": "5aa4602f-1481-4ebe-94bc-17b92da72d57",
   "metadata": {},
   "outputs": [],
   "source": [
    "df1['year']=np.array(df1['year'])"
   ]
  },
  {
   "cell_type": "code",
   "execution_count": 121,
   "id": "01e32254-ed23-4e29-84d7-c1ef0070d7c9",
   "metadata": {},
   "outputs": [
    {
     "data": {
      "text/plain": [
       "0       2018\n",
       "1       2002\n",
       "2       2002\n",
       "3       2005\n",
       "4       2002\n",
       "        ... \n",
       "5096    2011\n",
       "5097    2018\n",
       "5098    1995\n",
       "5099    1995\n",
       "5100    1999\n",
       "Name: year, Length: 5101, dtype: object"
      ]
     },
     "execution_count": 121,
     "metadata": {},
     "output_type": "execute_result"
    }
   ],
   "source": [
    "df1['year']"
   ]
  },
  {
   "cell_type": "code",
   "execution_count": 122,
   "id": "9186ef8e-9dd2-4abe-b20f-f30eb306dacb",
   "metadata": {},
   "outputs": [],
   "source": [
    "df1['year']=le.fit_transform(df1['year'])"
   ]
  },
  {
   "cell_type": "code",
   "execution_count": 123,
   "id": "ada6827c-d41c-4bab-8c76-940f1077c45a",
   "metadata": {},
   "outputs": [],
   "source": [
    "df1=pd.get_dummies(df1)"
   ]
  },
  {
   "cell_type": "code",
   "execution_count": 124,
   "id": "e3ced1b1-abdd-4136-8950-4c4881d05b06",
   "metadata": {},
   "outputs": [
    {
     "data": {
      "text/html": [
       "<div>\n",
       "<style scoped>\n",
       "    .dataframe tbody tr th:only-of-type {\n",
       "        vertical-align: middle;\n",
       "    }\n",
       "\n",
       "    .dataframe tbody tr th {\n",
       "        vertical-align: top;\n",
       "    }\n",
       "\n",
       "    .dataframe thead th {\n",
       "        text-align: right;\n",
       "    }\n",
       "</style>\n",
       "<table border=\"1\" class=\"dataframe\">\n",
       "  <thead>\n",
       "    <tr style=\"text-align: right;\">\n",
       "      <th></th>\n",
       "      <th>year</th>\n",
       "      <th>price</th>\n",
       "      <th>km_traveled</th>\n",
       "      <th>tax</th>\n",
       "      <th>engineSize</th>\n",
       "      <th>km_per_liters</th>\n",
       "      <th>transmission_Automatic</th>\n",
       "      <th>transmission_Manual</th>\n",
       "      <th>transmission_Other</th>\n",
       "      <th>transmission_Semi-Auto</th>\n",
       "      <th>fuel_type_Diesel</th>\n",
       "      <th>fuel_type_Hybrid</th>\n",
       "      <th>fuel_type_Other</th>\n",
       "      <th>fuel_type_Petrol</th>\n",
       "    </tr>\n",
       "  </thead>\n",
       "  <tbody>\n",
       "    <tr>\n",
       "      <th>0</th>\n",
       "      <td>26</td>\n",
       "      <td>9491</td>\n",
       "      <td>39842.43038</td>\n",
       "      <td>0.0</td>\n",
       "      <td>1.5</td>\n",
       "      <td>20.364398</td>\n",
       "      <td>0</td>\n",
       "      <td>1</td>\n",
       "      <td>0</td>\n",
       "      <td>0</td>\n",
       "      <td>0</td>\n",
       "      <td>0</td>\n",
       "      <td>0</td>\n",
       "      <td>1</td>\n",
       "    </tr>\n",
       "    <tr>\n",
       "      <th>1</th>\n",
       "      <td>10</td>\n",
       "      <td>3750</td>\n",
       "      <td>18158.18322</td>\n",
       "      <td>145.0</td>\n",
       "      <td>3.0</td>\n",
       "      <td>30.015166</td>\n",
       "      <td>0</td>\n",
       "      <td>0</td>\n",
       "      <td>1</td>\n",
       "      <td>0</td>\n",
       "      <td>0</td>\n",
       "      <td>0</td>\n",
       "      <td>0</td>\n",
       "      <td>1</td>\n",
       "    </tr>\n",
       "    <tr>\n",
       "      <th>2</th>\n",
       "      <td>10</td>\n",
       "      <td>27000</td>\n",
       "      <td>24391.15704</td>\n",
       "      <td>0.0</td>\n",
       "      <td>1.5</td>\n",
       "      <td>25.040982</td>\n",
       "      <td>0</td>\n",
       "      <td>1</td>\n",
       "      <td>0</td>\n",
       "      <td>0</td>\n",
       "      <td>1</td>\n",
       "      <td>0</td>\n",
       "      <td>0</td>\n",
       "      <td>0</td>\n",
       "    </tr>\n",
       "    <tr>\n",
       "      <th>3</th>\n",
       "      <td>13</td>\n",
       "      <td>19200</td>\n",
       "      <td>14405.20234</td>\n",
       "      <td>0.0</td>\n",
       "      <td>1.8</td>\n",
       "      <td>24.530809</td>\n",
       "      <td>0</td>\n",
       "      <td>0</td>\n",
       "      <td>0</td>\n",
       "      <td>1</td>\n",
       "      <td>0</td>\n",
       "      <td>1</td>\n",
       "      <td>0</td>\n",
       "      <td>0</td>\n",
       "    </tr>\n",
       "    <tr>\n",
       "      <th>4</th>\n",
       "      <td>10</td>\n",
       "      <td>11995</td>\n",
       "      <td>34639.43416</td>\n",
       "      <td>145.0</td>\n",
       "      <td>1.0</td>\n",
       "      <td>24.658352</td>\n",
       "      <td>1</td>\n",
       "      <td>0</td>\n",
       "      <td>0</td>\n",
       "      <td>0</td>\n",
       "      <td>1</td>\n",
       "      <td>0</td>\n",
       "      <td>0</td>\n",
       "      <td>0</td>\n",
       "    </tr>\n",
       "  </tbody>\n",
       "</table>\n",
       "</div>"
      ],
      "text/plain": [
       "   year  price  km_traveled    tax  engineSize  km_per_liters  \\\n",
       "0    26   9491  39842.43038    0.0         1.5      20.364398   \n",
       "1    10   3750  18158.18322  145.0         3.0      30.015166   \n",
       "2    10  27000  24391.15704    0.0         1.5      25.040982   \n",
       "3    13  19200  14405.20234    0.0         1.8      24.530809   \n",
       "4    10  11995  34639.43416  145.0         1.0      24.658352   \n",
       "\n",
       "   transmission_Automatic  transmission_Manual  transmission_Other  \\\n",
       "0                       0                    1                   0   \n",
       "1                       0                    0                   1   \n",
       "2                       0                    1                   0   \n",
       "3                       0                    0                   0   \n",
       "4                       1                    0                   0   \n",
       "\n",
       "   transmission_Semi-Auto  fuel_type_Diesel  fuel_type_Hybrid  \\\n",
       "0                       0                 0                 0   \n",
       "1                       0                 0                 0   \n",
       "2                       0                 1                 0   \n",
       "3                       1                 0                 1   \n",
       "4                       0                 1                 0   \n",
       "\n",
       "   fuel_type_Other  fuel_type_Petrol  \n",
       "0                0                 1  \n",
       "1                0                 1  \n",
       "2                0                 0  \n",
       "3                0                 0  \n",
       "4                0                 0  "
      ]
     },
     "execution_count": 124,
     "metadata": {},
     "output_type": "execute_result"
    }
   ],
   "source": [
    "df1.head()"
   ]
  },
  {
   "cell_type": "code",
   "execution_count": 125,
   "id": "050bf917-a2a5-48a0-987f-aedbb22fa697",
   "metadata": {},
   "outputs": [],
   "source": [
    "from sklearn.preprocessing import StandardScaler"
   ]
  },
  {
   "cell_type": "code",
   "execution_count": 126,
   "id": "e711de9d-dd38-4433-9479-f8390b52f6be",
   "metadata": {},
   "outputs": [],
   "source": [
    "std=StandardScaler()"
   ]
  },
  {
   "cell_type": "code",
   "execution_count": 127,
   "id": "e8e0fd64-8121-46be-84ec-cd34c09c194a",
   "metadata": {},
   "outputs": [],
   "source": [
    "std_df=std.fit_transform(df1)"
   ]
  },
  {
   "cell_type": "code",
   "execution_count": 128,
   "id": "8be0e472-346c-4275-90fc-e2725d4e00e9",
   "metadata": {},
   "outputs": [],
   "source": [
    "a=list(df1.columns)"
   ]
  },
  {
   "cell_type": "code",
   "execution_count": 129,
   "id": "71d96e2e-976d-455e-8acb-979e8b33e5b8",
   "metadata": {},
   "outputs": [],
   "source": [
    "final_df=pd.DataFrame(std_df)"
   ]
  },
  {
   "cell_type": "code",
   "execution_count": 130,
   "id": "8c778731-06a4-415d-bc69-b23823090f75",
   "metadata": {},
   "outputs": [],
   "source": [
    "final_df.columns=a"
   ]
  },
  {
   "cell_type": "code",
   "execution_count": 131,
   "id": "7ea8ccc1-3327-49c8-ab0e-f7852a3e78bf",
   "metadata": {},
   "outputs": [
    {
     "data": {
      "text/html": [
       "<div>\n",
       "<style scoped>\n",
       "    .dataframe tbody tr th:only-of-type {\n",
       "        vertical-align: middle;\n",
       "    }\n",
       "\n",
       "    .dataframe tbody tr th {\n",
       "        vertical-align: top;\n",
       "    }\n",
       "\n",
       "    .dataframe thead th {\n",
       "        text-align: right;\n",
       "    }\n",
       "</style>\n",
       "<table border=\"1\" class=\"dataframe\">\n",
       "  <thead>\n",
       "    <tr style=\"text-align: right;\">\n",
       "      <th></th>\n",
       "      <th>year</th>\n",
       "      <th>price</th>\n",
       "      <th>km_traveled</th>\n",
       "      <th>tax</th>\n",
       "      <th>engineSize</th>\n",
       "      <th>km_per_liters</th>\n",
       "      <th>transmission_Automatic</th>\n",
       "      <th>transmission_Manual</th>\n",
       "      <th>transmission_Other</th>\n",
       "      <th>transmission_Semi-Auto</th>\n",
       "      <th>fuel_type_Diesel</th>\n",
       "      <th>fuel_type_Hybrid</th>\n",
       "      <th>fuel_type_Other</th>\n",
       "      <th>fuel_type_Petrol</th>\n",
       "    </tr>\n",
       "  </thead>\n",
       "  <tbody>\n",
       "    <tr>\n",
       "      <th>0</th>\n",
       "      <td>1.547188</td>\n",
       "      <td>-0.469616</td>\n",
       "      <td>0.152295</td>\n",
       "      <td>-1.289346</td>\n",
       "      <td>0.086067</td>\n",
       "      <td>-1.142011</td>\n",
       "      <td>-0.519170</td>\n",
       "      <td>1.547947</td>\n",
       "      <td>-0.578482</td>\n",
       "      <td>-0.565804</td>\n",
       "      <td>-0.519778</td>\n",
       "      <td>-0.668036</td>\n",
       "      <td>-0.608384</td>\n",
       "      <td>1.947864</td>\n",
       "    </tr>\n",
       "    <tr>\n",
       "      <th>1</th>\n",
       "      <td>-0.447998</td>\n",
       "      <td>-1.352534</td>\n",
       "      <td>-0.629644</td>\n",
       "      <td>0.688099</td>\n",
       "      <td>3.539348</td>\n",
       "      <td>0.594901</td>\n",
       "      <td>-0.519170</td>\n",
       "      <td>-0.646017</td>\n",
       "      <td>1.728662</td>\n",
       "      <td>-0.565804</td>\n",
       "      <td>-0.519778</td>\n",
       "      <td>-0.668036</td>\n",
       "      <td>-0.608384</td>\n",
       "      <td>1.947864</td>\n",
       "    </tr>\n",
       "    <tr>\n",
       "      <th>2</th>\n",
       "      <td>-0.447998</td>\n",
       "      <td>2.223121</td>\n",
       "      <td>-0.404882</td>\n",
       "      <td>-1.289346</td>\n",
       "      <td>0.086067</td>\n",
       "      <td>-0.300336</td>\n",
       "      <td>-0.519170</td>\n",
       "      <td>1.547947</td>\n",
       "      <td>-0.578482</td>\n",
       "      <td>-0.565804</td>\n",
       "      <td>1.923898</td>\n",
       "      <td>-0.668036</td>\n",
       "      <td>-0.608384</td>\n",
       "      <td>-0.513383</td>\n",
       "    </tr>\n",
       "    <tr>\n",
       "      <th>3</th>\n",
       "      <td>-0.073900</td>\n",
       "      <td>1.023547</td>\n",
       "      <td>-0.764978</td>\n",
       "      <td>-1.289346</td>\n",
       "      <td>0.776723</td>\n",
       "      <td>-0.392155</td>\n",
       "      <td>-0.519170</td>\n",
       "      <td>-0.646017</td>\n",
       "      <td>-0.578482</td>\n",
       "      <td>1.767395</td>\n",
       "      <td>-0.519778</td>\n",
       "      <td>1.496926</td>\n",
       "      <td>-0.608384</td>\n",
       "      <td>-0.513383</td>\n",
       "    </tr>\n",
       "    <tr>\n",
       "      <th>4</th>\n",
       "      <td>-0.447998</td>\n",
       "      <td>-0.084522</td>\n",
       "      <td>-0.035326</td>\n",
       "      <td>0.688099</td>\n",
       "      <td>-1.065027</td>\n",
       "      <td>-0.369200</td>\n",
       "      <td>1.926153</td>\n",
       "      <td>-0.646017</td>\n",
       "      <td>-0.578482</td>\n",
       "      <td>-0.565804</td>\n",
       "      <td>1.923898</td>\n",
       "      <td>-0.668036</td>\n",
       "      <td>-0.608384</td>\n",
       "      <td>-0.513383</td>\n",
       "    </tr>\n",
       "  </tbody>\n",
       "</table>\n",
       "</div>"
      ],
      "text/plain": [
       "       year     price  km_traveled       tax  engineSize  km_per_liters  \\\n",
       "0  1.547188 -0.469616     0.152295 -1.289346    0.086067      -1.142011   \n",
       "1 -0.447998 -1.352534    -0.629644  0.688099    3.539348       0.594901   \n",
       "2 -0.447998  2.223121    -0.404882 -1.289346    0.086067      -0.300336   \n",
       "3 -0.073900  1.023547    -0.764978 -1.289346    0.776723      -0.392155   \n",
       "4 -0.447998 -0.084522    -0.035326  0.688099   -1.065027      -0.369200   \n",
       "\n",
       "   transmission_Automatic  transmission_Manual  transmission_Other  \\\n",
       "0               -0.519170             1.547947           -0.578482   \n",
       "1               -0.519170            -0.646017            1.728662   \n",
       "2               -0.519170             1.547947           -0.578482   \n",
       "3               -0.519170            -0.646017           -0.578482   \n",
       "4                1.926153            -0.646017           -0.578482   \n",
       "\n",
       "   transmission_Semi-Auto  fuel_type_Diesel  fuel_type_Hybrid  \\\n",
       "0               -0.565804         -0.519778         -0.668036   \n",
       "1               -0.565804         -0.519778         -0.668036   \n",
       "2               -0.565804          1.923898         -0.668036   \n",
       "3                1.767395         -0.519778          1.496926   \n",
       "4               -0.565804          1.923898         -0.668036   \n",
       "\n",
       "   fuel_type_Other  fuel_type_Petrol  \n",
       "0        -0.608384          1.947864  \n",
       "1        -0.608384          1.947864  \n",
       "2        -0.608384         -0.513383  \n",
       "3        -0.608384         -0.513383  \n",
       "4        -0.608384         -0.513383  "
      ]
     },
     "execution_count": 131,
     "metadata": {},
     "output_type": "execute_result"
    }
   ],
   "source": [
    "final_df.head()"
   ]
  },
  {
   "cell_type": "code",
   "execution_count": 132,
   "id": "142e92c3-799e-4ae3-ae2c-e1bafd197120",
   "metadata": {},
   "outputs": [],
   "source": [
    "final_df1=pd.concat([final_df,df['price']],axis=1)"
   ]
  },
  {
   "cell_type": "code",
   "execution_count": 133,
   "id": "ce1dcf5b-bfca-4a4a-9efa-b1bad59800b8",
   "metadata": {},
   "outputs": [
    {
     "data": {
      "text/html": [
       "<div>\n",
       "<style scoped>\n",
       "    .dataframe tbody tr th:only-of-type {\n",
       "        vertical-align: middle;\n",
       "    }\n",
       "\n",
       "    .dataframe tbody tr th {\n",
       "        vertical-align: top;\n",
       "    }\n",
       "\n",
       "    .dataframe thead th {\n",
       "        text-align: right;\n",
       "    }\n",
       "</style>\n",
       "<table border=\"1\" class=\"dataframe\">\n",
       "  <thead>\n",
       "    <tr style=\"text-align: right;\">\n",
       "      <th></th>\n",
       "      <th>year</th>\n",
       "      <th>price</th>\n",
       "      <th>km_traveled</th>\n",
       "      <th>tax</th>\n",
       "      <th>engineSize</th>\n",
       "      <th>km_per_liters</th>\n",
       "      <th>transmission_Automatic</th>\n",
       "      <th>transmission_Manual</th>\n",
       "      <th>transmission_Other</th>\n",
       "      <th>transmission_Semi-Auto</th>\n",
       "      <th>fuel_type_Diesel</th>\n",
       "      <th>fuel_type_Hybrid</th>\n",
       "      <th>fuel_type_Other</th>\n",
       "      <th>fuel_type_Petrol</th>\n",
       "      <th>price</th>\n",
       "    </tr>\n",
       "  </thead>\n",
       "  <tbody>\n",
       "    <tr>\n",
       "      <th>0</th>\n",
       "      <td>1.547188</td>\n",
       "      <td>-0.469616</td>\n",
       "      <td>0.152295</td>\n",
       "      <td>-1.289346</td>\n",
       "      <td>0.086067</td>\n",
       "      <td>-1.142011</td>\n",
       "      <td>-0.519170</td>\n",
       "      <td>1.547947</td>\n",
       "      <td>-0.578482</td>\n",
       "      <td>-0.565804</td>\n",
       "      <td>-0.519778</td>\n",
       "      <td>-0.668036</td>\n",
       "      <td>-0.608384</td>\n",
       "      <td>1.947864</td>\n",
       "      <td>9491</td>\n",
       "    </tr>\n",
       "    <tr>\n",
       "      <th>1</th>\n",
       "      <td>-0.447998</td>\n",
       "      <td>-1.352534</td>\n",
       "      <td>-0.629644</td>\n",
       "      <td>0.688099</td>\n",
       "      <td>3.539348</td>\n",
       "      <td>0.594901</td>\n",
       "      <td>-0.519170</td>\n",
       "      <td>-0.646017</td>\n",
       "      <td>1.728662</td>\n",
       "      <td>-0.565804</td>\n",
       "      <td>-0.519778</td>\n",
       "      <td>-0.668036</td>\n",
       "      <td>-0.608384</td>\n",
       "      <td>1.947864</td>\n",
       "      <td>3750</td>\n",
       "    </tr>\n",
       "    <tr>\n",
       "      <th>2</th>\n",
       "      <td>-0.447998</td>\n",
       "      <td>2.223121</td>\n",
       "      <td>-0.404882</td>\n",
       "      <td>-1.289346</td>\n",
       "      <td>0.086067</td>\n",
       "      <td>-0.300336</td>\n",
       "      <td>-0.519170</td>\n",
       "      <td>1.547947</td>\n",
       "      <td>-0.578482</td>\n",
       "      <td>-0.565804</td>\n",
       "      <td>1.923898</td>\n",
       "      <td>-0.668036</td>\n",
       "      <td>-0.608384</td>\n",
       "      <td>-0.513383</td>\n",
       "      <td>27000</td>\n",
       "    </tr>\n",
       "    <tr>\n",
       "      <th>3</th>\n",
       "      <td>-0.073900</td>\n",
       "      <td>1.023547</td>\n",
       "      <td>-0.764978</td>\n",
       "      <td>-1.289346</td>\n",
       "      <td>0.776723</td>\n",
       "      <td>-0.392155</td>\n",
       "      <td>-0.519170</td>\n",
       "      <td>-0.646017</td>\n",
       "      <td>-0.578482</td>\n",
       "      <td>1.767395</td>\n",
       "      <td>-0.519778</td>\n",
       "      <td>1.496926</td>\n",
       "      <td>-0.608384</td>\n",
       "      <td>-0.513383</td>\n",
       "      <td>19200</td>\n",
       "    </tr>\n",
       "    <tr>\n",
       "      <th>4</th>\n",
       "      <td>-0.447998</td>\n",
       "      <td>-0.084522</td>\n",
       "      <td>-0.035326</td>\n",
       "      <td>0.688099</td>\n",
       "      <td>-1.065027</td>\n",
       "      <td>-0.369200</td>\n",
       "      <td>1.926153</td>\n",
       "      <td>-0.646017</td>\n",
       "      <td>-0.578482</td>\n",
       "      <td>-0.565804</td>\n",
       "      <td>1.923898</td>\n",
       "      <td>-0.668036</td>\n",
       "      <td>-0.608384</td>\n",
       "      <td>-0.513383</td>\n",
       "      <td>11995</td>\n",
       "    </tr>\n",
       "  </tbody>\n",
       "</table>\n",
       "</div>"
      ],
      "text/plain": [
       "       year     price  km_traveled       tax  engineSize  km_per_liters  \\\n",
       "0  1.547188 -0.469616     0.152295 -1.289346    0.086067      -1.142011   \n",
       "1 -0.447998 -1.352534    -0.629644  0.688099    3.539348       0.594901   \n",
       "2 -0.447998  2.223121    -0.404882 -1.289346    0.086067      -0.300336   \n",
       "3 -0.073900  1.023547    -0.764978 -1.289346    0.776723      -0.392155   \n",
       "4 -0.447998 -0.084522    -0.035326  0.688099   -1.065027      -0.369200   \n",
       "\n",
       "   transmission_Automatic  transmission_Manual  transmission_Other  \\\n",
       "0               -0.519170             1.547947           -0.578482   \n",
       "1               -0.519170            -0.646017            1.728662   \n",
       "2               -0.519170             1.547947           -0.578482   \n",
       "3               -0.519170            -0.646017           -0.578482   \n",
       "4                1.926153            -0.646017           -0.578482   \n",
       "\n",
       "   transmission_Semi-Auto  fuel_type_Diesel  fuel_type_Hybrid  \\\n",
       "0               -0.565804         -0.519778         -0.668036   \n",
       "1               -0.565804         -0.519778         -0.668036   \n",
       "2               -0.565804          1.923898         -0.668036   \n",
       "3                1.767395         -0.519778          1.496926   \n",
       "4               -0.565804          1.923898         -0.668036   \n",
       "\n",
       "   fuel_type_Other  fuel_type_Petrol  price  \n",
       "0        -0.608384          1.947864   9491  \n",
       "1        -0.608384          1.947864   3750  \n",
       "2        -0.608384         -0.513383  27000  \n",
       "3        -0.608384         -0.513383  19200  \n",
       "4        -0.608384         -0.513383  11995  "
      ]
     },
     "execution_count": 133,
     "metadata": {},
     "output_type": "execute_result"
    }
   ],
   "source": [
    "final_df1.head()"
   ]
  },
  {
   "cell_type": "code",
   "execution_count": 134,
   "id": "b361a11d-9556-4e29-a420-d3f52c8b7007",
   "metadata": {},
   "outputs": [],
   "source": [
    "from sklearn.model_selection import train_test_split"
   ]
  },
  {
   "cell_type": "code",
   "execution_count": 135,
   "id": "9e8fa01f-148f-43a9-b56c-ac4c99d860ed",
   "metadata": {},
   "outputs": [],
   "source": [
    "train_df,test_df=train_test_split(final_df1,train_size=0.8,random_state=43)"
   ]
  },
  {
   "cell_type": "code",
   "execution_count": 136,
   "id": "5ccd5fcf-a303-460a-962e-b6e70065d621",
   "metadata": {},
   "outputs": [],
   "source": [
    "x_train=train_df.iloc[:,:-1]\n",
    "y_train=train_df.iloc[:,[-1]]\n",
    "x_test=test_df.iloc[:,:-1]\n",
    "y_test=test_df.iloc[:,[-1]]\n",
    "\n"
   ]
  },
  {
   "cell_type": "code",
   "execution_count": 137,
   "id": "718e3359-d5ec-4cc2-83b6-15c288689e89",
   "metadata": {},
   "outputs": [
    {
     "data": {
      "text/html": [
       "<div>\n",
       "<style scoped>\n",
       "    .dataframe tbody tr th:only-of-type {\n",
       "        vertical-align: middle;\n",
       "    }\n",
       "\n",
       "    .dataframe tbody tr th {\n",
       "        vertical-align: top;\n",
       "    }\n",
       "\n",
       "    .dataframe thead th {\n",
       "        text-align: right;\n",
       "    }\n",
       "</style>\n",
       "<table border=\"1\" class=\"dataframe\">\n",
       "  <thead>\n",
       "    <tr style=\"text-align: right;\">\n",
       "      <th></th>\n",
       "      <th>price</th>\n",
       "    </tr>\n",
       "  </thead>\n",
       "  <tbody>\n",
       "    <tr>\n",
       "      <th>1365</th>\n",
       "      <td>14995</td>\n",
       "    </tr>\n",
       "    <tr>\n",
       "      <th>1185</th>\n",
       "      <td>10000</td>\n",
       "    </tr>\n",
       "    <tr>\n",
       "      <th>2011</th>\n",
       "      <td>10000</td>\n",
       "    </tr>\n",
       "    <tr>\n",
       "      <th>2783</th>\n",
       "      <td>6595</td>\n",
       "    </tr>\n",
       "    <tr>\n",
       "      <th>4831</th>\n",
       "      <td>10195</td>\n",
       "    </tr>\n",
       "    <tr>\n",
       "      <th>...</th>\n",
       "      <td>...</td>\n",
       "    </tr>\n",
       "    <tr>\n",
       "      <th>3532</th>\n",
       "      <td>14995</td>\n",
       "    </tr>\n",
       "    <tr>\n",
       "      <th>2675</th>\n",
       "      <td>25650</td>\n",
       "    </tr>\n",
       "    <tr>\n",
       "      <th>4078</th>\n",
       "      <td>7785</td>\n",
       "    </tr>\n",
       "    <tr>\n",
       "      <th>283</th>\n",
       "      <td>12100</td>\n",
       "    </tr>\n",
       "    <tr>\n",
       "      <th>4072</th>\n",
       "      <td>15995</td>\n",
       "    </tr>\n",
       "  </tbody>\n",
       "</table>\n",
       "<p>1021 rows × 1 columns</p>\n",
       "</div>"
      ],
      "text/plain": [
       "      price\n",
       "1365  14995\n",
       "1185  10000\n",
       "2011  10000\n",
       "2783   6595\n",
       "4831  10195\n",
       "...     ...\n",
       "3532  14995\n",
       "2675  25650\n",
       "4078   7785\n",
       "283   12100\n",
       "4072  15995\n",
       "\n",
       "[1021 rows x 1 columns]"
      ]
     },
     "execution_count": 137,
     "metadata": {},
     "output_type": "execute_result"
    }
   ],
   "source": [
    "y_test"
   ]
  },
  {
   "cell_type": "code",
   "execution_count": 138,
   "id": "72cc9324-c055-4b78-a9c6-953dd71d9253",
   "metadata": {},
   "outputs": [],
   "source": [
    "from sklearn.linear_model import LinearRegression"
   ]
  },
  {
   "cell_type": "code",
   "execution_count": 139,
   "id": "1826313e-ed25-440a-b00b-12a21c105e47",
   "metadata": {},
   "outputs": [],
   "source": [
    "lr=LinearRegression()"
   ]
  },
  {
   "cell_type": "code",
   "execution_count": 140,
   "id": "984c7507-a7e4-4d38-9588-43242dd1ecb5",
   "metadata": {},
   "outputs": [
    {
     "data": {
      "text/plain": [
       "LinearRegression()"
      ]
     },
     "execution_count": 140,
     "metadata": {},
     "output_type": "execute_result"
    }
   ],
   "source": [
    "lr.fit(x_train,y_train)"
   ]
  },
  {
   "cell_type": "code",
   "execution_count": 141,
   "id": "55351e61-025b-42d4-9472-b61ff8b4b90b",
   "metadata": {},
   "outputs": [],
   "source": [
    "pred_lr_train=lr.predict(x_train)"
   ]
  },
  {
   "cell_type": "code",
   "execution_count": 142,
   "id": "44b3b494-ace8-4b06-b24e-b48a8715752a",
   "metadata": {},
   "outputs": [],
   "source": [
    "pred_lr_test=lr.predict(x_test)"
   ]
  },
  {
   "cell_type": "code",
   "execution_count": 143,
   "id": "8919eb9f-8119-44bf-ba80-ee559b65d0d8",
   "metadata": {},
   "outputs": [],
   "source": [
    "from sklearn.metrics import r2_score"
   ]
  },
  {
   "cell_type": "code",
   "execution_count": null,
   "id": "68dd91b6-899f-4906-a5fe-5ccb4519c4f7",
   "metadata": {},
   "outputs": [],
   "source": []
  },
  {
   "cell_type": "code",
   "execution_count": 144,
   "id": "d3d9efce-8bf4-481c-b17b-799c14266fd1",
   "metadata": {},
   "outputs": [
    {
     "data": {
      "text/plain": [
       "1.0"
      ]
     },
     "execution_count": 144,
     "metadata": {},
     "output_type": "execute_result"
    }
   ],
   "source": [
    "r2_score(y_train,pred_lr_train)"
   ]
  },
  {
   "cell_type": "code",
   "execution_count": 145,
   "id": "e8d0bcfe-9221-4b6f-b7ed-d77d2e256893",
   "metadata": {},
   "outputs": [],
   "source": [
    "df5=pd.DataFrame()"
   ]
  },
  {
   "cell_type": "code",
   "execution_count": 146,
   "id": "f4df3457-fc65-410f-9bf3-63b71d3c05da",
   "metadata": {},
   "outputs": [],
   "source": [
    "df5['actual']=y_train"
   ]
  },
  {
   "cell_type": "code",
   "execution_count": 147,
   "id": "116b934e-4201-460d-86a0-b0de19c73f89",
   "metadata": {},
   "outputs": [
    {
     "data": {
      "text/plain": [
       "1.0"
      ]
     },
     "execution_count": 147,
     "metadata": {},
     "output_type": "execute_result"
    }
   ],
   "source": [
    "r2_score(y_test,pred_lr_test)"
   ]
  },
  {
   "cell_type": "code",
   "execution_count": 148,
   "id": "7b1d0aa2-e648-4a16-9889-0375e3953381",
   "metadata": {},
   "outputs": [],
   "source": [
    "#### model seems to be getting over fitted"
   ]
  },
  {
   "cell_type": "code",
   "execution_count": 149,
   "id": "658117a9-9843-497b-b90d-57e65155c48c",
   "metadata": {},
   "outputs": [],
   "source": [
    "from sklearn.linear_model import Lasso"
   ]
  },
  {
   "cell_type": "code",
   "execution_count": 150,
   "id": "4d9ca514-3554-4764-b04e-f40ac3078549",
   "metadata": {},
   "outputs": [],
   "source": [
    "rg=Lasso()"
   ]
  },
  {
   "cell_type": "code",
   "execution_count": 151,
   "id": "2a7a0033-2f90-438c-bc3b-c7eb40c7eeec",
   "metadata": {},
   "outputs": [
    {
     "data": {
      "text/plain": [
       "Lasso()"
      ]
     },
     "execution_count": 151,
     "metadata": {},
     "output_type": "execute_result"
    }
   ],
   "source": [
    "rg.fit(x_train,y_train)"
   ]
  },
  {
   "cell_type": "code",
   "execution_count": 152,
   "id": "ba450d3c-66c2-4f9e-ae6d-fc8cc791a7e4",
   "metadata": {},
   "outputs": [],
   "source": [
    "y_pred_lasso_train=rg.predict(x_train)"
   ]
  },
  {
   "cell_type": "code",
   "execution_count": 153,
   "id": "fadc8ce7-281c-4765-a199-60f42a54f500",
   "metadata": {},
   "outputs": [],
   "source": [
    "y_pred_lasso_test=rg.predict(x_test)"
   ]
  },
  {
   "cell_type": "code",
   "execution_count": 154,
   "id": "087ef6f4-684b-4ad4-8cd6-17b331a3b65d",
   "metadata": {},
   "outputs": [
    {
     "data": {
      "text/plain": [
       "0.9999999752200742"
      ]
     },
     "execution_count": 154,
     "metadata": {},
     "output_type": "execute_result"
    }
   ],
   "source": [
    "r2_score(y_train,y_pred_lasso_train)"
   ]
  },
  {
   "cell_type": "code",
   "execution_count": 155,
   "id": "cd3ce493-9e4e-4ce1-b175-7617853633c5",
   "metadata": {},
   "outputs": [
    {
     "data": {
      "text/plain": [
       "0.9999999752094381"
      ]
     },
     "execution_count": 155,
     "metadata": {},
     "output_type": "execute_result"
    }
   ],
   "source": [
    "r2_score(y_test,y_pred_lasso_test)"
   ]
  },
  {
   "cell_type": "markdown",
   "id": "1bb96934-9344-46b2-b225-f66d29d28c97",
   "metadata": {},
   "source": [
    "#### applying ridge regression"
   ]
  },
  {
   "cell_type": "code",
   "execution_count": 156,
   "id": "a4b4ab24-79cd-44b5-ba32-2de078985b4a",
   "metadata": {},
   "outputs": [],
   "source": [
    "from sklearn.linear_model import Ridge"
   ]
  },
  {
   "cell_type": "code",
   "execution_count": 157,
   "id": "98055f84-7889-4050-89bb-f81e6ae33ecc",
   "metadata": {},
   "outputs": [],
   "source": [
    "rige=Ridge()"
   ]
  },
  {
   "cell_type": "code",
   "execution_count": 158,
   "id": "dc4850f4-c54a-4d4f-8552-660a1d25a54f",
   "metadata": {},
   "outputs": [
    {
     "data": {
      "text/plain": [
       "Ridge()"
      ]
     },
     "execution_count": 158,
     "metadata": {},
     "output_type": "execute_result"
    }
   ],
   "source": [
    "rige.fit(x_train,y_train)"
   ]
  },
  {
   "cell_type": "code",
   "execution_count": 159,
   "id": "0170d1d8-ca30-4d89-b751-032c0db97051",
   "metadata": {},
   "outputs": [],
   "source": [
    "pred_rige_test=rige.predict(x_test)"
   ]
  },
  {
   "cell_type": "code",
   "execution_count": 160,
   "id": "39f13a12-02c9-4a6e-ae07-df43f5b7bdbb",
   "metadata": {},
   "outputs": [
    {
     "data": {
      "text/plain": [
       "0.9999999373454257"
      ]
     },
     "execution_count": 160,
     "metadata": {},
     "output_type": "execute_result"
    }
   ],
   "source": [
    "r2_score(y_test,pred_rige_test)"
   ]
  },
  {
   "cell_type": "code",
   "execution_count": 161,
   "id": "e01180f2-ce49-4740-ac68-67a328ab94b5",
   "metadata": {},
   "outputs": [],
   "source": [
    "#### applying dicission tree regression"
   ]
  },
  {
   "cell_type": "code",
   "execution_count": 162,
   "id": "3808e55b-b96a-4118-8c31-58efb8b23597",
   "metadata": {},
   "outputs": [],
   "source": [
    "from sklearn.tree import DecisionTreeRegressor"
   ]
  },
  {
   "cell_type": "code",
   "execution_count": 163,
   "id": "86348661-4719-4a0e-bf87-faa48788da7f",
   "metadata": {},
   "outputs": [],
   "source": [
    "dr=DecisionTreeRegressor()"
   ]
  },
  {
   "cell_type": "code",
   "execution_count": 164,
   "id": "a35a3691-3c6f-46d3-a59c-b0d944a2fc43",
   "metadata": {},
   "outputs": [
    {
     "data": {
      "text/plain": [
       "DecisionTreeRegressor()"
      ]
     },
     "execution_count": 164,
     "metadata": {},
     "output_type": "execute_result"
    }
   ],
   "source": [
    "dr.fit(x_train,y_train)"
   ]
  },
  {
   "cell_type": "code",
   "execution_count": 165,
   "id": "6214f25b-b25b-4865-af21-e3cd00fb8225",
   "metadata": {},
   "outputs": [],
   "source": [
    "pred_dr_test=dr.predict(x_test)"
   ]
  },
  {
   "cell_type": "code",
   "execution_count": 166,
   "id": "964b012e-500f-46eb-97e4-fa80e0d3966b",
   "metadata": {},
   "outputs": [
    {
     "data": {
      "text/plain": [
       "0.9977511399256915"
      ]
     },
     "execution_count": 166,
     "metadata": {},
     "output_type": "execute_result"
    }
   ],
   "source": [
    "r2_score(y_test,pred_dr_test)"
   ]
  },
  {
   "cell_type": "code",
   "execution_count": 167,
   "id": "28d9d4bd-aa5f-432c-91ea-e739f9810cf9",
   "metadata": {},
   "outputs": [],
   "source": [
    "####"
   ]
  },
  {
   "cell_type": "code",
   "execution_count": 168,
   "id": "cf797083-bf7b-4076-bd14-976131d947ee",
   "metadata": {},
   "outputs": [],
   "source": [
    "#applying adboost regrerssor"
   ]
  },
  {
   "cell_type": "code",
   "execution_count": 169,
   "id": "a1587da9-056f-4cf0-a3ad-e6c9715c502c",
   "metadata": {},
   "outputs": [],
   "source": [
    "from sklearn.ensemble import GradientBoostingRegressor"
   ]
  },
  {
   "cell_type": "code",
   "execution_count": 170,
   "id": "78638c8c-e4dd-4828-ad53-30a135601bb6",
   "metadata": {},
   "outputs": [],
   "source": [
    "gdboost=GradientBoostingRegressor()"
   ]
  },
  {
   "cell_type": "code",
   "execution_count": 171,
   "id": "3eea13b4-66c7-475f-8e38-26772d6eeb2d",
   "metadata": {},
   "outputs": [
    {
     "name": "stderr",
     "output_type": "stream",
     "text": [
      "C:\\Users\\Shree\\anaconda3\\lib\\site-packages\\sklearn\\ensemble\\_gb.py:494: DataConversionWarning: A column-vector y was passed when a 1d array was expected. Please change the shape of y to (n_samples, ), for example using ravel().\n",
      "  y = column_or_1d(y, warn=True)\n"
     ]
    },
    {
     "data": {
      "text/plain": [
       "GradientBoostingRegressor()"
      ]
     },
     "execution_count": 171,
     "metadata": {},
     "output_type": "execute_result"
    }
   ],
   "source": [
    "gdboost.fit(x_train,y_train)"
   ]
  },
  {
   "cell_type": "code",
   "execution_count": 172,
   "id": "793e2f5b-684c-4a7d-a3f7-ced027f13867",
   "metadata": {},
   "outputs": [],
   "source": [
    "pred_boost=gdboost.predict(x_test)"
   ]
  },
  {
   "cell_type": "code",
   "execution_count": 173,
   "id": "03486260-fc66-41bb-8d5e-08a074ee298d",
   "metadata": {},
   "outputs": [
    {
     "data": {
      "text/plain": [
       "0.9976531073111726"
      ]
     },
     "execution_count": 173,
     "metadata": {},
     "output_type": "execute_result"
    }
   ],
   "source": [
    "r2_score(y_test,pred_boost)"
   ]
  },
  {
   "cell_type": "code",
   "execution_count": 174,
   "id": "997f17b2-21a0-4074-803b-22c3281f8676",
   "metadata": {},
   "outputs": [],
   "source": [
    "#### gradient boost algorithem seems to be stable"
   ]
  },
  {
   "cell_type": "code",
   "execution_count": 175,
   "id": "784153b1-7d78-47ef-bd85-f79f81834bdc",
   "metadata": {},
   "outputs": [],
   "source": [
    "import pickle"
   ]
  },
  {
   "cell_type": "code",
   "execution_count": 176,
   "id": "6ebc8b33-e263-486a-899d-3b1ec1deaa38",
   "metadata": {},
   "outputs": [],
   "source": [
    "filename='car_price_prediction_pkl'"
   ]
  },
  {
   "cell_type": "code",
   "execution_count": 177,
   "id": "ce32b4ca-a124-489a-b2ac-113c79417c8b",
   "metadata": {},
   "outputs": [],
   "source": [
    "with open(filename,'wb') as f:\n",
    "    pickle.dump(gdboost,f)"
   ]
  },
  {
   "cell_type": "code",
   "execution_count": 178,
   "id": "85161375-4ef1-4404-b441-4a2bd8cd67f7",
   "metadata": {},
   "outputs": [],
   "source": [
    "##### loading a model"
   ]
  },
  {
   "cell_type": "code",
   "execution_count": 181,
   "id": "c4506a74-acd2-442e-a437-005cddaf89b5",
   "metadata": {},
   "outputs": [],
   "source": [
    "with open(filename,'rb') as f:\n",
    "    model=pickle.load(f)"
   ]
  },
  {
   "cell_type": "code",
   "execution_count": null,
   "id": "bd92275e-1ab9-41c0-b8d8-caa9fff7a6c4",
   "metadata": {},
   "outputs": [],
   "source": []
  }
 ],
 "metadata": {
  "kernelspec": {
   "display_name": "Python 3 (ipykernel)",
   "language": "python",
   "name": "python3"
  },
  "language_info": {
   "codemirror_mode": {
    "name": "ipython",
    "version": 3
   },
   "file_extension": ".py",
   "mimetype": "text/x-python",
   "name": "python",
   "nbconvert_exporter": "python",
   "pygments_lexer": "ipython3",
   "version": "3.9.12"
  }
 },
 "nbformat": 4,
 "nbformat_minor": 5
}
